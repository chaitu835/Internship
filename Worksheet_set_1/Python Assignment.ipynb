{
 "cells": [
  {
   "cell_type": "code",
   "execution_count": 6,
   "id": "df4fc94c",
   "metadata": {},
   "outputs": [
    {
     "name": "stdout",
     "output_type": "stream",
     "text": [
      "Enter any number: 5\n",
      "The factorial of given number is 120\n"
     ]
    }
   ],
   "source": [
    "#11. Write a python program to find the factorial of a number.\n",
    "n = int(input(\"Enter any number: \"))\n",
    "\n",
    "def factorial(n) :\n",
    "    if (n==0 or n==1) :\n",
    "        return 1\n",
    "    else : \n",
    "        return n*(factorial(n-1))\n",
    "\n",
    "print(\"The factorial of given number is\",factorial(n))"
   ]
  },
  {
   "cell_type": "code",
   "execution_count": 18,
   "id": "a4cc5a41",
   "metadata": {},
   "outputs": [
    {
     "name": "stdout",
     "output_type": "stream",
     "text": [
      "Enter any number: 7\n",
      "7 is a PRIME number\n"
     ]
    }
   ],
   "source": [
    "#12. Write a python program to find whether a number is prime or composite.\n",
    "\n",
    "num = int(input(\"Enter any number: \"))\n",
    "\n",
    "if(num == 0 or num == 1):\n",
    "    print(num, \"is a neither prime NOR composite number\")\n",
    "\n",
    "elif num > 1:\n",
    "    if (num==2):\n",
    "        print(num,\"is a PRIME number\")\n",
    "    else:\n",
    "        for i in range(2, num):\n",
    "            if (num % i) == 0:\n",
    "                print(num, \"is composite number\")\n",
    "                break\n",
    "            else:\n",
    "                print(num, \"is a PRIME number\")\n",
    "                break\n"
   ]
  },
  {
   "cell_type": "code",
   "execution_count": 15,
   "id": "24293c9e",
   "metadata": {},
   "outputs": [
    {
     "name": "stdout",
     "output_type": "stream",
     "text": [
      "Enter a string: d\n",
      "Given String is a Palindrome\n"
     ]
    }
   ],
   "source": [
    "#13. Write a python program to check whether a given string is palindrome or not.\n",
    "\n",
    "s= input(\"Enter a string: \")\n",
    "\n",
    "def stringreverse(s):\n",
    "    r = s[::-1]\n",
    "    return r\n",
    "    \n",
    "r = stringreverse(s)\n",
    "\n",
    "if(s==r):\n",
    "    print(\"Given String is a Palindrome\")\n",
    "else:\n",
    "    print(\"Given String is not a Palindrome\")"
   ]
  },
  {
   "cell_type": "code",
   "execution_count": 2,
   "id": "96763e13",
   "metadata": {},
   "outputs": [
    {
     "name": "stdout",
     "output_type": "stream",
     "text": [
      "5.0\n"
     ]
    }
   ],
   "source": [
    "#14. Write a Python program to get the third side of right-angled triangle from two given sides.\n",
    "def hypotenuse(x,y):\n",
    "    h=(x**2+y**2) ** 0.5\n",
    "    return h\n",
    "\n",
    "print(hypotenuse(3,4))    "
   ]
  },
  {
   "cell_type": "code",
   "execution_count": 5,
   "id": "4545bc88",
   "metadata": {},
   "outputs": [
    {
     "name": "stdout",
     "output_type": "stream",
     "text": [
      "Count of all characters in DataTrained is :\n",
      " {'D': 1, 'a': 3, 't': 1, 'T': 1, 'r': 1, 'i': 1, 'n': 1, 'e': 1, 'd': 1}\n"
     ]
    }
   ],
   "source": [
    "#15. Write a python program to print the frequency of each of the characters present in a given string.\n",
    "test_string = \"DataTrained\"\n",
    " \n",
    "char_freq = {}\n",
    " \n",
    "for i in test_string:\n",
    "    if i in char_freq:\n",
    "        char_freq[i] += 1\n",
    "    else:\n",
    "        char_freq[i] = 1\n",
    " \n",
    "print(\"Count of all characters in DataTrained is :\\n \"\n",
    "      + str(char_freq))"
   ]
  },
  {
   "cell_type": "code",
   "execution_count": null,
   "id": "5127c9a4",
   "metadata": {},
   "outputs": [],
   "source": []
  },
  {
   "cell_type": "code",
   "execution_count": null,
   "id": "5a6826a0",
   "metadata": {},
   "outputs": [],
   "source": []
  },
  {
   "cell_type": "code",
   "execution_count": null,
   "id": "f8b8f1ad",
   "metadata": {},
   "outputs": [],
   "source": []
  },
  {
   "cell_type": "code",
   "execution_count": null,
   "id": "e22c4658",
   "metadata": {},
   "outputs": [],
   "source": []
  },
  {
   "cell_type": "code",
   "execution_count": null,
   "id": "e8723029",
   "metadata": {},
   "outputs": [],
   "source": []
  }
 ],
 "metadata": {
  "kernelspec": {
   "display_name": "Python 3 (ipykernel)",
   "language": "python",
   "name": "python3"
  },
  "language_info": {
   "codemirror_mode": {
    "name": "ipython",
    "version": 3
   },
   "file_extension": ".py",
   "mimetype": "text/x-python",
   "name": "python",
   "nbconvert_exporter": "python",
   "pygments_lexer": "ipython3",
   "version": "3.10.9"
  }
 },
 "nbformat": 4,
 "nbformat_minor": 5
}
