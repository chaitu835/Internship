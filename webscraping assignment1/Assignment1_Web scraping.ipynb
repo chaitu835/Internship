{
 "cells": [
  {
   "cell_type": "code",
   "execution_count": 1,
   "id": "6d4ff0d3",
   "metadata": {},
   "outputs": [
    {
     "name": "stdout",
     "output_type": "stream",
     "text": [
      "Defaulting to user installation because normal site-packages is not writeable\n",
      "Requirement already satisfied: bs4 in c:\\users\\dell\\appdata\\roaming\\python\\python310\\site-packages (0.0.2)\n",
      "Requirement already satisfied: beautifulsoup4 in c:\\programdata\\anaconda3\\lib\\site-packages (from bs4) (4.11.1)\n",
      "Requirement already satisfied: soupsieve>1.2 in c:\\programdata\\anaconda3\\lib\\site-packages (from beautifulsoup4->bs4) (2.3.2.post1)\n",
      "Defaulting to user installation because normal site-packages is not writeable\n",
      "Requirement already satisfied: requests in c:\\programdata\\anaconda3\\lib\\site-packages (2.28.1)\n",
      "Requirement already satisfied: charset-normalizer<3,>=2 in c:\\programdata\\anaconda3\\lib\\site-packages (from requests) (2.0.4)\n",
      "Requirement already satisfied: urllib3<1.27,>=1.21.1 in c:\\programdata\\anaconda3\\lib\\site-packages (from requests) (1.26.14)\n",
      "Requirement already satisfied: idna<4,>=2.5 in c:\\programdata\\anaconda3\\lib\\site-packages (from requests) (3.4)\n",
      "Requirement already satisfied: certifi>=2017.4.17 in c:\\programdata\\anaconda3\\lib\\site-packages (from requests) (2022.12.7)\n"
     ]
    }
   ],
   "source": [
    "!pip install bs4\n",
    "!pip install requests"
   ]
  },
  {
   "cell_type": "code",
   "execution_count": 2,
   "id": "91f1f984",
   "metadata": {},
   "outputs": [
    {
     "name": "stdout",
     "output_type": "stream",
     "text": [
      "                           Header\n",
      "0                       Main Page\n",
      "1            Welcome to Wikipedia\n",
      "2   From today's featured article\n",
      "3                Did you know ...\n",
      "4                     In the news\n",
      "5                     On this day\n",
      "6      From today's featured list\n",
      "7        Today's featured picture\n",
      "8        Other areas of Wikipedia\n",
      "9     Wikipedia's sister projects\n",
      "10            Wikipedia languages\n"
     ]
    }
   ],
   "source": [
    "#1. Write a python program to display all the header tags from wikipedia.org and make data frame\n",
    "from bs4 import BeautifulSoup\n",
    "import requests\n",
    "import pandas as pd\n",
    "url=\"https://en.wikipedia.org/wiki/Main_Page\"\n",
    "page=requests.get(url)\n",
    "soup = BeautifulSoup(page.content)\n",
    "header_tags = soup.find_all([\"h1\", \"h2\", \"h3\", \"h4\", \"h5\", \"h6\"])\n",
    "#print('List all the header tags :', *header_tags, sep='\\n')\n",
    "header_texts = [tag.get_text() for tag in header_tags]\n",
    "#print('List all the header texts :', *header_texts, sep='\\n')\n",
    "df = pd.DataFrame(header_texts, columns=[\"Header\"])\n",
    "print(df)"
   ]
  },
  {
   "cell_type": "code",
   "execution_count": 20,
   "id": "0d744ed3",
   "metadata": {},
   "outputs": [
    {
     "name": "stdout",
     "output_type": "stream",
     "text": [
      "                  President Name           term of office\n",
      "0           Shri Ram Nath Kovind  14th President of India\n",
      "1          Shri Pranab Mukherjee  13th President of India\n",
      "2   Smt Pratibha Devisingh Patil  12th President of India\n",
      "3         DR. A.P.J. Abdul Kalam  11th President of India\n",
      "4           Shri K. R. Narayanan  10th President of India\n",
      "5        Dr Shankar Dayal Sharma  9th  President of India\n",
      "6            Shri R Venkataraman   8th President of India\n",
      "7               Giani Zail Singh   7th President of India\n",
      "8      Shri Neelam Sanjiva Reddy   6th President of India\n",
      "9       Dr. Fakhruddin Ali Ahmed   5th President of India\n",
      "10  Shri Varahagiri Venkata Giri   4th President of India\n",
      "11              Dr. Zakir Husain   3rd President of India\n",
      "12  Dr. Sarvepalli Radhakrishnan   2nd President of India\n",
      "13           Dr. Rajendra Prasad   1st President of India\n"
     ]
    }
   ],
   "source": [
    "#2. Write a python program to display list of respected former presidents of India(i.e. Name , Term ofoffice) from https://presidentofindia.nic.in/former-presidents.htm and make data frame.\n",
    "from bs4 import BeautifulSoup\n",
    "import requests\n",
    "import pandas as pd\n",
    "url=\"https://presidentofindia.nic.in/former-presidents\"\n",
    "page=requests.get(url)\n",
    "soup = BeautifulSoup(page.content)\n",
    "h3_tags = soup.find_all([\"h3\"])\n",
    "h5_tags = soup.find_all([\"h5\"])\n",
    "president_name = [tag.get_text() for tag in h3_tags]\n",
    "term_of_office = [tag.get_text() for tag in h5_tags]\n",
    "data = {\n",
    "  \"President Name\": president_name,\n",
    "  \"term of office\":term_of_office\n",
    "}\n",
    "\n",
    "df = pd.DataFrame(data)\n",
    "print(df)"
   ]
  },
  {
   "cell_type": "code",
   "execution_count": 32,
   "id": "7b1c151e",
   "metadata": {},
   "outputs": [
    {
     "name": "stdout",
     "output_type": "stream",
     "text": [
      "                                          Paper Title  \\\n",
      "0                                    Reward is enough   \n",
      "1   Explanation in artificial intelligence: Insigh...   \n",
      "2              Creativity and artificial intelligence   \n",
      "3   Conflict-based search for optimal multi-agent ...   \n",
      "4   Knowledge graphs as tools for explainable mach...   \n",
      "5   Law and logic: A review from an argumentation ...   \n",
      "6   Between MDPs and semi-MDPs: A framework for te...   \n",
      "7   Explaining individual predictions when feature...   \n",
      "8       Multiple object tracking: A literature review   \n",
      "9   A survey of inverse reinforcement learning: Ch...   \n",
      "10  Evaluating XAI: A comparison of rule-based and...   \n",
      "11  Explainable AI tools for legal reasoning about...   \n",
      "12            Hard choices in artificial intelligence   \n",
      "13  Assessing the communication gap between AI mod...   \n",
      "14  Explaining black-box classifiers using post-ho...   \n",
      "15  The Hanabi challenge: A new frontier for AI re...   \n",
      "16              Wrappers for feature subset selection   \n",
      "17  Artificial cognition for social human–robot in...   \n",
      "18  A review of possible effects of cognitive bias...   \n",
      "19  The multifaceted impact of Ada Lovelace in the...   \n",
      "20  Robot ethics: Mapping the issues for a mechani...   \n",
      "21          Reward (Mis)design for autonomous driving   \n",
      "22  Planning and acting in partially observable st...   \n",
      "23  What do we want from Explainable Artificial In...   \n",
      "\n",
      "                                              Authors  Published Date  \n",
      "0   David Silver, Satinder Singh, Doina Precup, Ri...    October 2021  \n",
      "1                                         Tim Miller    February 2019  \n",
      "2                                  Margaret A. Boden      August 1998  \n",
      "3   Guni Sharon, Roni Stern, Ariel Felner, Nathan ...   February 2015  \n",
      "4                     Ilaria Tiddi, Stefan Schlobach     January 2022  \n",
      "5                     Henry Prakken, Giovanni Sartor     October 2015  \n",
      "6    Richard S. Sutton, Doina Precup, Satinder Singh      August 1999  \n",
      "7          Kjersti Aas, Martin Jullum, Anders Løland   September 2021  \n",
      "8                Wenhan Luo, Junliang Xing and 4 more      April 2021  \n",
      "9                      Saurabh Arora, Prashant Doshi      August 2021  \n",
      "10  Jasper van der Waa, Elisabeth Nieuwburg, Anita...   February 2021  \n",
      "11  Joe Collenette, Katie Atkinson, Trevor Bench-C...      April 2023  \n",
      "12  Roel Dobbe, Thomas Krendl Gilbert, Yonatan Mintz    November 2021  \n",
      "13  Oskar Wysocki, Jessica Katharine Davies and 5 ...      March 2023  \n",
      "14  Eoin M. Kenny, Courtney Ford, Molly Quinn, Mar...        May 2021  \n",
      "15          Nolan Bard, Jakob N. Foerster and 13 more      March 2020  \n",
      "16                        Ron Kohavi, George H. John    December 1997  \n",
      "17      Séverin Lemaignan, Mathieu Warnier and 3 more       June 2017  \n",
      "18   Tomáš Kliegr, Štěpán Bahník, Johannes Fürnkranz        June 2021  \n",
      "19                            Luigia Carlucci Aiello        June 2016  \n",
      "20            Patrick Lin, Keith Abney, George Bekey       April 2011  \n",
      "21     W. Bradley Knox, Alessandro Allievi and 3 more      March 2023  \n",
      "22  Leslie Pack Kaelbling, Michael L. Littman, Ant...        May 1998  \n",
      "23             Markus Langer, Daniel Oster and 6 more       July 2021  \n"
     ]
    }
   ],
   "source": [
    "#6. Write a python program to scrape the details of most downloaded articles from AI in last 90 days.https://www.journals.elsevier.com/artificial-intelligence/most-downloaded-articles Scrape below mentioned details and make data frame-\n",
    "\n",
    "from bs4 import BeautifulSoup\n",
    "import requests\n",
    "import pandas as pd\n",
    "url=\"https://www.journals.elsevier.com/artificial-intelligence/most-downloaded-articles\"\n",
    "page=requests.get(url)\n",
    "soup = BeautifulSoup(page.content)\n",
    "\n",
    "paper_title1= soup.find_all(\"h2\", class_=\"sc-1qrq3sd-1 gRGSUS sc-1nmom32-0 sc-1nmom32-1 btcbYu goSKRg\")\n",
    "authors1 = soup.find_all(\"span\", class_=\"sc-1w3fpd7-0 dnCnAO\")\n",
    "published_date1=soup.find_all(\"span\",class_=\"sc-1thf9ly-2 dvggWt\")\n",
    "#Class for Paper URL class_=\"sc-5smygv-0 fIXTHm\")\n",
    "\n",
    "paper_title = [tag.get_text() for tag in paper_title1]\n",
    "authors= [tag.get_text() for tag in authors1]\n",
    "published_date = [tag.get_text() for tag in published_date1]\n",
    "\n",
    "data = {\n",
    "  \"Paper Title\": paper_title,\n",
    "  \"Authors\":authors,\n",
    "  \"Published Date\":published_date   \n",
    "}\n",
    "\n",
    "df = pd.DataFrame(data)\n",
    "print(df)\n"
   ]
  },
  {
   "cell_type": "code",
   "execution_count": null,
   "id": "0ce2b206",
   "metadata": {},
   "outputs": [],
   "source": []
  }
 ],
 "metadata": {
  "kernelspec": {
   "display_name": "Python 3 (ipykernel)",
   "language": "python",
   "name": "python3"
  },
  "language_info": {
   "codemirror_mode": {
    "name": "ipython",
    "version": 3
   },
   "file_extension": ".py",
   "mimetype": "text/x-python",
   "name": "python",
   "nbconvert_exporter": "python",
   "pygments_lexer": "ipython3",
   "version": "3.10.9"
  }
 },
 "nbformat": 4,
 "nbformat_minor": 5
}
