{
 "cells": [
  {
   "cell_type": "code",
   "execution_count": 3,
   "id": "b03f1220",
   "metadata": {},
   "outputs": [
    {
     "name": "stdout",
     "output_type": "stream",
     "text": [
      "Python:Exercises::PHP:exercises:\n"
     ]
    }
   ],
   "source": [
    "# 1. Write a Python program to replace all occurrences of a space, comma, or dot with a colon.\n",
    "import regex as re\n",
    "sample_text = 'Python Exercises, PHP exercises.'\n",
    "print(re.sub(\"[ ,.]\", \":\",sample_text))\n"
   ]
  },
  {
   "cell_type": "code",
   "execution_count": 8,
   "id": "dc34ba76",
   "metadata": {},
   "outputs": [
    {
     "name": "stdout",
     "output_type": "stream",
     "text": [
      "         SUMMARY\n",
      "0    hello world\n",
      "1           test\n",
      "2  four five six\n"
     ]
    }
   ],
   "source": [
    "# 2. Create a dataframe using the dictionary below and remove everything (commas (,), !, XXXX, ;, etc.) from the columns except words.\n",
    "import pandas as pd\n",
    "import regex as re \n",
    "data = {'SUMMARY' : ['hello, world!', 'XXXXX test', '123four, five:; six...']}\n",
    "df = pd.DataFrame(data)\n",
    "df['SUMMARY'] = df['SUMMARY'].apply(lambda x: re.sub(r'[^a-zA-Z\\s]|[X+]', '', x))\n",
    "print(df)"
   ]
  },
  {
   "cell_type": "code",
   "execution_count": 9,
   "id": "d36cd4af",
   "metadata": {},
   "outputs": [
    {
     "name": "stdout",
     "output_type": "stream",
     "text": [
      "['quick', 'brown', 'jumps', 'over', 'lazy']\n"
     ]
    }
   ],
   "source": [
    "#3. Create a function in python to find all words that are at least 4 characters long in a string. The use of the re.compile() method is mandatory.\n",
    "import re\n",
    "text = 'The quick brown fox jumps over the lazy dog.'\n",
    "pattern = re.compile(r\"\\b\\w{4,}\\b\")\n",
    "print(pattern.findall(text))\n"
   ]
  },
  {
   "cell_type": "code",
   "execution_count": 10,
   "id": "d2e4ca62",
   "metadata": {},
   "outputs": [
    {
     "name": "stdout",
     "output_type": "stream",
     "text": [
      "['The', 'quick', 'brown', 'fox', 'jumps', 'over', 'the', 'lazy', 'dog']\n"
     ]
    }
   ],
   "source": [
    "#4. Create a function in python to find all three, four, and five character words in a string. The use of the re.compile() method is mandatory.\n",
    "import re\n",
    "text = 'The quick brown fox jumps over the lazy dog.'\n",
    "pattern = re.compile(r\"\\b\\w{3,5}\\b\")\n",
    "print(pattern.findall(text))\n"
   ]
  },
  {
   "cell_type": "code",
   "execution_count": 96,
   "id": "3b0c0fef",
   "metadata": {},
   "outputs": [
    {
     "name": "stdout",
     "output_type": "stream",
     "text": [
      "example .com\n",
      "hr@fliprobo .com\n",
      "github .com\n",
      "Hello Data Science World\n",
      "Data Scientist\n"
     ]
    }
   ],
   "source": [
    "#5. Create a function in Python to remove the parenthesis in a list of strings. The use of the re.compile() method is mandatory.\n",
    "import re\n",
    "sample_text = [\"example (.com)\", \"hr@fliprobo (.com)\", \"github (.com)\", \"Hello (Data Science World)\", \"Data (Scientist)\"]\n",
    "\n",
    "pattern=re.compile(r\"(\\()|(\\))\")\n",
    "for item in sample_text:\n",
    "    print(re.sub(pattern, \"\", item))"
   ]
  },
  {
   "cell_type": "code",
   "execution_count": 102,
   "id": "fbba35d2",
   "metadata": {},
   "outputs": [
    {
     "name": "stdout",
     "output_type": "stream",
     "text": [
      "[\"example (.com)\", \"hr@fliprobo (.com)\", \"github (.com)\", \"Hello (Data Science World)\", \"Data (Scientist)\"]\n",
      "[\"example \", \"hr@fliprobo \", \"github \", \"Hello \", \"Data \"]\n"
     ]
    }
   ],
   "source": [
    "#6. Write a python program to remove the parenthesis area from the text stored in the text file using Regular Expression.\n",
    "import re\n",
    "text_file = open(\"C:\\\\Users\\Dell\\Downloads\\Parenthesis.txt\",'r')\n",
    "file_content = text_file.read()\n",
    "print(file_content)\n",
    "pattern=r\"\\([^()]*\\)\"\n",
    "\n",
    "print(re.sub(pattern, \"\", file_content))\n",
    "\n"
   ]
  },
  {
   "cell_type": "code",
   "execution_count": 12,
   "id": "61cfe131",
   "metadata": {},
   "outputs": [
    {
     "name": "stdout",
     "output_type": "stream",
     "text": [
      "['Importance', 'Of', 'Regular', 'Expressions', 'In', 'Python']\n"
     ]
    }
   ],
   "source": [
    "#7. Write a regular expression in Python to split a string into uppercase letters.\n",
    "import re\n",
    "Sample_text = \"ImportanceOfRegularExpressionsInPython\"\n",
    "print(re.findall('[A-Z][^A-Z]*', Sample_text))"
   ]
  },
  {
   "cell_type": "code",
   "execution_count": 16,
   "id": "50dab92c",
   "metadata": {},
   "outputs": [
    {
     "name": "stdout",
     "output_type": "stream",
     "text": [
      "RegularExpression 1IsAn 2ImportantTopic 3InPython\n"
     ]
    }
   ],
   "source": [
    "#8. Create a function in python to insert spaces between words starting with numbers.\n",
    "import re\n",
    "\n",
    "def insert_spaces(text):\n",
    "  # Use regular expression to find words starting with numbers\n",
    "  pattern = r'(\\d+)([A-Za-z]+)'\n",
    "  result = re.sub(pattern, r' \\1\\2', text)\n",
    "  return result\n",
    "\n",
    "text = \"RegularExpression1IsAn2ImportantTopic3InPython\"\n",
    "output = insert_spaces(text)\n",
    "print(output)\n"
   ]
  },
  {
   "cell_type": "code",
   "execution_count": 17,
   "id": "53f516ca",
   "metadata": {},
   "outputs": [
    {
     "name": "stdout",
     "output_type": "stream",
     "text": [
      " Regular Expression 1 Is An 2 Important Topic 3 In Python\n"
     ]
    }
   ],
   "source": [
    "#9. Create a function in python to insert spaces between words starting with capital letters or with numbers.\n",
    "\n",
    "import re\n",
    "def insert_spaces(text):\n",
    "  pattern = r'([A-Z])|(\\d+)'\n",
    "  result = re.sub(pattern, r' \\1\\2', text)\n",
    "  return result\n",
    "\n",
    "text = \"RegularExpression1IsAn2ImportantTopic3InPython\"\n",
    "output = insert_spaces(text)\n",
    "print(output)\n",
    "\n"
   ]
  },
  {
   "cell_type": "code",
   "execution_count": 107,
   "id": "72322b48",
   "metadata": {},
   "outputs": [
    {
     "name": "stdout",
     "output_type": "stream",
     "text": [
      "0      Switze\n",
      "1      Icelan\n",
      "2      Denmar\n",
      "3      Norway\n",
      "4      Canada\n",
      "        ...  \n",
      "153    Rwanda\n",
      "154     Benin\n",
      "155     Syria\n",
      "156    Burund\n",
      "157      Togo\n",
      "Name: first_five_letters, Length: 158, dtype: object\n"
     ]
    }
   ],
   "source": [
    "#10- Use the github link below to read the data and create a dataframe. After creating the dataframe extract the first 6 letters of each country and store in the dataframe under a new column called first_five_letters.\n",
    "import pandas as pd\n",
    "github_link = \"https://raw.githubusercontent.com/dsrscientist/DSData/master/happiness_score_dataset.csv\"\n",
    "df = pd.read_csv(github_link)\n",
    "df['first_five_letters'] = df['Country'].apply(lambda x: x[:6])\n",
    "print(df['first_five_letters'])\n"
   ]
  },
  {
   "cell_type": "code",
   "execution_count": null,
   "id": "4adbf875",
   "metadata": {},
   "outputs": [],
   "source": [
    "#11.Write a Python program to match a string that contains only upper and lowercase letters, numbers, and underscores.\n",
    "import re\n",
    "def text_match(text):\n",
    "        patterns = '^[a-zA-Z0-9_]*$'\n",
    "        if re.search(patterns,  text):\n",
    "                return 'Found a match!'\n",
    "        else:\n",
    "                return('Not matched!')\n",
    "\n",
    "print(text_match(\"The quick brown fox jumps over the lazy dog.\"))\n",
    "print(text_match(\"Python_Exercises_1\"))\n"
   ]
  },
  {
   "cell_type": "code",
   "execution_count": 18,
   "id": "455bf55e",
   "metadata": {},
   "outputs": [
    {
     "name": "stdout",
     "output_type": "stream",
     "text": [
      "True\n",
      "False\n"
     ]
    }
   ],
   "source": [
    "#12. Write a Python program where a string will start with a specific number. \n",
    "import re\n",
    "def match_num(string):\n",
    "    text = re.compile(r\"^5\")\n",
    "    if text.match(string):\n",
    "        return True\n",
    "    else:\n",
    "        return False\n",
    "print(match_num('5-2345861'))\n",
    "print(match_num('6-2345861'))"
   ]
  },
  {
   "cell_type": "code",
   "execution_count": 26,
   "id": "27475fbc",
   "metadata": {},
   "outputs": [
    {
     "name": "stdout",
     "output_type": "stream",
     "text": [
      "216.8.94.196\n"
     ]
    }
   ],
   "source": [
    "#13. Write a Python program to remove leading zeros from an IP address\n",
    "import re\n",
    "ip = \"216.08.094.196\"\n",
    "string = re.sub('\\.[0]*', '.', ip)\n",
    "print(string)"
   ]
  },
  {
   "cell_type": "code",
   "execution_count": 76,
   "id": "8c9b57db",
   "metadata": {},
   "outputs": [
    {
     "name": "stdout",
     "output_type": "stream",
     "text": [
      "August 15th 1947\n"
     ]
    }
   ],
   "source": [
    "#14- Write a regular expression in python to match a date string in the form of Month name followed by day number and year stored in a text file.\n",
    "import re\n",
    "text_file = open(\"C:\\\\Users\\Dell\\Downloads\\date.txt\")\n",
    "file_content = text_file.read()\n",
    "pattern = r\"\\b([A-Z][a-z]+ \\d{1,2}(?:st|nd|rd|th)? \\d{4})\\b\"\n",
    "matches = re.findall(pattern, file_content)\n",
    "date_string = matches[0]\n",
    "print(date_string)\n",
    "text_file.close()"
   ]
  },
  {
   "cell_type": "code",
   "execution_count": 38,
   "id": "00103015",
   "metadata": {},
   "outputs": [
    {
     "name": "stdout",
     "output_type": "stream",
     "text": [
      "Searching for \"fox\" literal string in string ->\n",
      "Matched!\n",
      "Searching for \"dog\" literal string in string ->\n",
      "Matched!\n",
      "Searching for \"horse\" literal string in string ->\n",
      "Not Matched!\n"
     ]
    }
   ],
   "source": [
    "#15. Write a Python program to search some literals strings in a string.\n",
    "import re\n",
    "patterns = [ 'fox', 'dog', 'horse' ]\n",
    "string = 'The quick brown fox jumps over the lazy dog.'\n",
    "for pattern in patterns:\n",
    "    print('Searching for \"%s\" literal string in string ->' % (pattern))\n",
    "    if re.search(pattern, string):\n",
    "        print('Matched!')\n",
    "    else:\n",
    "        print('Not Matched!')"
   ]
  },
  {
   "cell_type": "code",
   "execution_count": 43,
   "id": "d0d758e0",
   "metadata": {},
   "outputs": [
    {
     "name": "stdout",
     "output_type": "stream",
     "text": [
      "Found \"fox\" in \"The quick brown fox jumps over the lazy dog.\" from 16 to 19 \n"
     ]
    }
   ],
   "source": [
    "#16. Write a Python program to search a literals string in a string and also find the location within the original string where the pattern occurs\n",
    "import re\n",
    "pattern = 'fox'\n",
    "string = 'The quick brown fox jumps over the lazy dog.'\n",
    "match = re.search(pattern, text)\n",
    "s = match.start()\n",
    "e = match.end()\n",
    "print('Found \"%s\" in \"%s\" from %d to %d ' % \\\n",
    "    (pattern, string, s, e))"
   ]
  },
  {
   "cell_type": "code",
   "execution_count": 50,
   "id": "457825d9",
   "metadata": {},
   "outputs": [
    {
     "name": "stdout",
     "output_type": "stream",
     "text": [
      "Found \"exercises\"\n",
      "Found \"exercises\"\n",
      "Found \"exercises\"\n"
     ]
    }
   ],
   "source": [
    "#17. Write a Python program to find the substrings within a string.\n",
    "import re\n",
    "text = 'Python exercises, PHP exercises, C# exercises'\n",
    "pattern = 'exercises'\n",
    "for match in re.findall(pattern, text):\n",
    "    print('Found \"%s\"' % (match))"
   ]
  },
  {
   "cell_type": "code",
   "execution_count": 51,
   "id": "0aa2703f",
   "metadata": {},
   "outputs": [
    {
     "name": "stdout",
     "output_type": "stream",
     "text": [
      "Found \"exercises\" at 7:16\n",
      "Found \"exercises\" at 22:31\n",
      "Found \"exercises\" at 36:45\n"
     ]
    }
   ],
   "source": [
    "#18. Write a Python program to find the occurrence and position of the substrings within a string.\n",
    "import re\n",
    "text = 'Python exercises, PHP exercises, C# exercises'\n",
    "pattern = 'exercises'\n",
    "for match in re.finditer(pattern, text):\n",
    "    s = match.start()\n",
    "    e = match.end()\n",
    "    print('Found \"%s\" at %d:%d' % (text[s:e], s, e))"
   ]
  },
  {
   "cell_type": "code",
   "execution_count": 52,
   "id": "a1c3fcfe",
   "metadata": {},
   "outputs": [
    {
     "name": "stdout",
     "output_type": "stream",
     "text": [
      "Original date in YYY-MM-DD Format:  2026-01-02\n",
      "New date in DD-MM-YYYY Format:  02-01-2026\n"
     ]
    }
   ],
   "source": [
    "#19. Write a Python program to convert a date of yyyy-mm-dd format to dd-mm-yyyy format.\n",
    "import re\n",
    "def change_date_format(dt):\n",
    "        return re.sub(r'(\\d{4})-(\\d{1,2})-(\\d{1,2})', '\\\\3-\\\\2-\\\\1', dt)\n",
    "dt1 = \"2026-01-02\"\n",
    "print(\"Original date in YYY-MM-DD Format: \",dt1)\n",
    "print(\"New date in DD-MM-YYYY Format: \",change_date_format(dt1))"
   ]
  },
  {
   "cell_type": "code",
   "execution_count": 56,
   "id": "bb667aac",
   "metadata": {},
   "outputs": [
    {
     "name": "stdout",
     "output_type": "stream",
     "text": [
      "['01.12', '0132.12', '2.31', '145.8', '3.01', '27.25', '0.25']\n"
     ]
    }
   ],
   "source": [
    "#20. Create a function in python to find all decimal numbers with a precision of 1 or 2 in a string. The use of the re.compile() method is mandatory.\n",
    "import re\n",
    "\n",
    "sample_text = \"01.12 0132.123 2.31875 145.8 3.01 27.25 0.25\"\n",
    "pattern = re.compile(r'\\d+\\.\\d{1,2}')\n",
    "\n",
    "print(re.findall(pattern,sample_text))"
   ]
  },
  {
   "cell_type": "code",
   "execution_count": 58,
   "id": "01ce3511",
   "metadata": {},
   "outputs": [
    {
     "name": "stdout",
     "output_type": "stream",
     "text": [
      "50\n",
      "Index position: 62\n",
      "4\n",
      "Index position: 75\n"
     ]
    }
   ],
   "source": [
    "#21. Write a Python program to separate and print the numbers and their position of a given string.\n",
    "import re\n",
    "# Input.\n",
    "text = \"The following example creates an ArrayList with a capacity of 50 elements. 4 elements are then added to the ArrayList and the ArrayList is trimmed accordingly.\"\n",
    "pattern= \"\\d+\"\n",
    "\n",
    "\n",
    "\n",
    "for match in re.finditer(pattern, text):\n",
    "    s = match.start()\n",
    "    e = match.end()\n",
    "    print('Found \"%s\" at %d:%d' % (text[s:e], s, e))\n",
    "\n",
    "\n",
    "\n",
    "#for m in re.finditer(\"\\d+\", text):\n",
    "#    print(m.group(0))\n",
    "#    print(\"Index position:\", m.start())"
   ]
  },
  {
   "cell_type": "code",
   "execution_count": 64,
   "id": "4c1b3940",
   "metadata": {},
   "outputs": [
    {
     "name": "stdout",
     "output_type": "stream",
     "text": [
      "['947', '896', '926', '524', '734', '950', '642']\n",
      "Max_value: 950\n"
     ]
    }
   ],
   "source": [
    "#22. Write a regular expression in python program to extract maximum/largest numeric value from a string.\n",
    "import re\n",
    "\n",
    "sample_text = 'My marks in each semester are: 947, 896, 926, 524, 734, 950, 642'\n",
    "\n",
    "numbers = re.findall('\\d+', sample_text)\n",
    "print(numbers)\n",
    "print(\"Max_value:\",max(numbers))\n",
    "\n"
   ]
  },
  {
   "cell_type": "code",
   "execution_count": 65,
   "id": "15a99660",
   "metadata": {},
   "outputs": [
    {
     "name": "stdout",
     "output_type": "stream",
     "text": [
      " Regular Expression Is An Important Topic In Python\n"
     ]
    }
   ],
   "source": [
    "#23. Create a function in python to insert spaces between words starting with capital letters.\n",
    "import re\n",
    "\n",
    "def insert_spaces(text):\n",
    "  pattern = r'([A-Z])'\n",
    "  result = re.sub(pattern, r' \\1', text)\n",
    "  return result\n",
    "\n",
    "text = \"RegularExpressionIsAnImportantTopicInPython\"\n",
    "output = insert_spaces(text)\n",
    "print(output)\n",
    "\n",
    "\n"
   ]
  },
  {
   "cell_type": "code",
   "execution_count": 119,
   "id": "1e1637ad",
   "metadata": {},
   "outputs": [
    {
     "name": "stdout",
     "output_type": "stream",
     "text": [
      "Found a match!\n",
      "Found a match!\n",
      "Found a match!\n",
      "Not matched!\n",
      "Not matched!\n",
      "Found a match!\n"
     ]
    }
   ],
   "source": [
    "#24. Python regex to find sequences of one upper case letter followed by lower case letters\n",
    "import re\n",
    "def text_match(text):\n",
    "        patterns = '[A-Z]+[a-z]+$'\n",
    "        if re.search(patterns, text):\n",
    "                return 'Found a match!'\n",
    "        else:\n",
    "                return('Not matched!')\n",
    "print(text_match(\"DaTaTr\"))\n",
    "print(text_match(\"Data\"))\n",
    "print(text_match(\"DataTrained\"))\n",
    "print(text_match(\"DATATRAINED\"))\n",
    "print(text_match(\"dA\"))\n",
    "print(text_match(\"Da\"))"
   ]
  },
  {
   "cell_type": "code",
   "execution_count": 117,
   "id": "0e1319be",
   "metadata": {},
   "outputs": [
    {
     "name": "stdout",
     "output_type": "stream",
     "text": [
      "Hello hello world\n"
     ]
    }
   ],
   "source": [
    "#25.Write a Python program to remove continuous duplicate words from Sentence using Regular Expression.\n",
    "import re\n",
    "Sample_text= \"Hello hello world world\"\n",
    "\n",
    "Pattern = r\"\\b(\\w+)(?:\\W\\1\\b)+\"\n",
    "\n",
    "print(re.sub(Pattern, r\"\\1\", Sample_text))\n",
    "\n"
   ]
  },
  {
   "cell_type": "code",
   "execution_count": 116,
   "id": "62a7d524",
   "metadata": {},
   "outputs": [
    {
     "name": "stdout",
     "output_type": "stream",
     "text": [
      "Accept\n"
     ]
    }
   ],
   "source": [
    "#26. Write a python program using RegEx to accept string ending with alphanumeric character.\n",
    "import re\n",
    "pattern = r\"[A-Z a-z 0-9]$\"\n",
    "def check(string): \n",
    "    if(re.search(pattern, string)): \n",
    "        print(\"Accept\")         \n",
    "    else: \n",
    "        print(\"Discard\")\n",
    "string = \"chaitanya835\"\n",
    "check(string)\n"
   ]
  },
  {
   "cell_type": "code",
   "execution_count": 72,
   "id": "865c6157",
   "metadata": {},
   "outputs": [
    {
     "name": "stdout",
     "output_type": "stream",
     "text": [
      "['#Doltiwal', '#xyzabc', '#Demonetization']\n"
     ]
    }
   ],
   "source": [
    "#27. Write a python program using RegEx to extract the hashtags.\n",
    "import re\n",
    "sample_text = \"\"\"RT @kapil_kausik: #Doltiwal I mean #xyzabc is \"hurt\" by #Demonetization as the same has rendered USELESS <ed><U+00A0><U+00BD><ed><U+00B1><U+0089> \"acquired funds\" No wo\"\"\"\n",
    "pattern = r\"#\\w+\"\n",
    "print(re.findall(pattern,sample_text))\n"
   ]
  },
  {
   "cell_type": "code",
   "execution_count": 73,
   "id": "288a740c",
   "metadata": {},
   "outputs": [
    {
     "name": "stdout",
     "output_type": "stream",
     "text": [
      "@Jags123456 Bharat band on 28??<ed><ed>Those who  are protesting #demonetization  are all different party leaders\n"
     ]
    }
   ],
   "source": [
    "# 28. Write a python program using RegEx to remove <U+..> like symbols\n",
    "import re\n",
    "sample_text = \"@Jags123456 Bharat band on 28??<ed><U+00A0><U+00BD><ed><U+00B8><U+0082>Those who  are protesting #demonetization  are all different party leaders\"\n",
    "pattern = r\"<U\\+\\w+>\"\n",
    "print(re.sub(pattern,\"\",sample_text))\n"
   ]
  },
  {
   "cell_type": "code",
   "execution_count": 74,
   "id": "dfe7f051",
   "metadata": {},
   "outputs": [
    {
     "name": "stdout",
     "output_type": "stream",
     "text": [
      "12-09-1992\n",
      "15-12-1999\n",
      "1993/12/05\n",
      "15/01/1995\n"
     ]
    }
   ],
   "source": [
    "# 29- Write a python program to extract dates from the text stored in the text file.\n",
    "import re\n",
    "text_file = open(\"C:\\\\Users\\Dell\\Downloads\\Extract_dates.txt\")\n",
    "file_content = text_file.read()\n",
    "pattern = \"\\d+[/-]\\d+[/-]\\d+\"\n",
    "dates = re.findall(pattern, file_content)\n",
    "for date in dates:\n",
    "    print(date)\n",
    "text_file.close()\n"
   ]
  },
  {
   "cell_type": "code",
   "execution_count": 75,
   "id": "4248c78e",
   "metadata": {},
   "outputs": [
    {
     "name": "stdout",
     "output_type": "stream",
     "text": [
      " following example creates  ArrayList  a capacity   elements. 4 elements   added   ArrayList   ArrayList  trimmed accordingly.\n"
     ]
    }
   ],
   "source": [
    "#30- Create a function in python to remove all words from a string of length between 2 and 4.\n",
    "import re\n",
    "sample_text = \"The following example creates an ArrayList with a capacity of 50 elements. 4 elements are then added to the ArrayList and the ArrayList is trimmed accordingly.\"\n",
    "pattern = re.compile(r\"\\b\\w{2,4}\\b\")\n",
    "print(re.sub(pattern,\"\",sample_text))\n"
   ]
  },
  {
   "cell_type": "code",
   "execution_count": null,
   "id": "2abd0b99",
   "metadata": {},
   "outputs": [],
   "source": []
  }
 ],
 "metadata": {
  "kernelspec": {
   "display_name": "Python 3 (ipykernel)",
   "language": "python",
   "name": "python3"
  },
  "language_info": {
   "codemirror_mode": {
    "name": "ipython",
    "version": 3
   },
   "file_extension": ".py",
   "mimetype": "text/x-python",
   "name": "python",
   "nbconvert_exporter": "python",
   "pygments_lexer": "ipython3",
   "version": "3.10.9"
  }
 },
 "nbformat": 4,
 "nbformat_minor": 5
}
